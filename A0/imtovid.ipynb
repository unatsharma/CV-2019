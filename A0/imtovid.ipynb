{
 "cells": [
  {
   "cell_type": "code",
   "execution_count": null,
   "metadata": {},
   "outputs": [
    {
     "ename": "KeyboardInterrupt",
     "evalue": "",
     "output_type": "error",
     "traceback": [
      "\u001b[1;31m---------------------------------------------------------------------------\u001b[0m",
      "\u001b[1;31mKeyboardInterrupt\u001b[0m                         Traceback (most recent call last)",
      "\u001b[1;32m<ipython-input-8-cd36e0fe4a75>\u001b[0m in \u001b[0;36m<module>\u001b[1;34m()\u001b[0m\n\u001b[0;32m      6\u001b[0m \u001b[0mopFile\u001b[0m\u001b[1;33m.\u001b[0m\u001b[0mwrite\u001b[0m\u001b[1;33m(\u001b[0m\u001b[1;34m\"Four coordinates of the faces detected\\n\\n\"\u001b[0m\u001b[1;33m)\u001b[0m\u001b[1;33m\u001b[0m\u001b[0m\n\u001b[0;32m      7\u001b[0m \u001b[1;32mwhile\u001b[0m\u001b[1;33m(\u001b[0m\u001b[0mvid\u001b[0m\u001b[1;33m.\u001b[0m\u001b[0misOpened\u001b[0m\u001b[1;33m(\u001b[0m\u001b[1;33m)\u001b[0m\u001b[1;33m)\u001b[0m\u001b[1;33m:\u001b[0m\u001b[1;33m\u001b[0m\u001b[0m\n\u001b[1;32m----> 8\u001b[1;33m     \u001b[0mret\u001b[0m\u001b[1;33m,\u001b[0m \u001b[0mframe\u001b[0m \u001b[1;33m=\u001b[0m \u001b[0mvid\u001b[0m\u001b[1;33m.\u001b[0m\u001b[0mread\u001b[0m\u001b[1;33m(\u001b[0m\u001b[1;33m)\u001b[0m\u001b[1;33m\u001b[0m\u001b[0m\n\u001b[0m\u001b[0;32m      9\u001b[0m     \u001b[1;32mif\u001b[0m \u001b[0mret\u001b[0m\u001b[1;33m:\u001b[0m\u001b[1;33m\u001b[0m\u001b[0m\n\u001b[0;32m     10\u001b[0m         \u001b[0mframe_g\u001b[0m \u001b[1;33m=\u001b[0m \u001b[0mcv2\u001b[0m\u001b[1;33m.\u001b[0m\u001b[0mcvtColor\u001b[0m\u001b[1;33m(\u001b[0m\u001b[0mframe\u001b[0m\u001b[1;33m,\u001b[0m \u001b[0mcv2\u001b[0m\u001b[1;33m.\u001b[0m\u001b[0mCOLOR_RGB2GRAY\u001b[0m\u001b[1;33m)\u001b[0m\u001b[1;33m\u001b[0m\u001b[0m\n",
      "\u001b[1;31mKeyboardInterrupt\u001b[0m: "
     ]
    },
    {
     "name": "stderr",
     "output_type": "stream",
     "text": [
      "ERROR:tornado.general:Uncaught exception in ZMQStream callback\n",
      "Traceback (most recent call last):\n",
      "  File \"C:\\Users\\TANU\\Anaconda\\lib\\site-packages\\zmq\\eventloop\\zmqstream.py\", line 432, in _run_callback\n",
      "    callback(*args, **kwargs)\n",
      "  File \"C:\\Users\\TANU\\Anaconda\\lib\\site-packages\\tornado\\stack_context.py\", line 276, in null_wrapper\n",
      "    return fn(*args, **kwargs)\n",
      "  File \"C:\\Users\\TANU\\Anaconda\\lib\\site-packages\\ipykernel\\kernelbase.py\", line 283, in dispatcher\n",
      "    return self.dispatch_shell(stream, msg)\n",
      "  File \"C:\\Users\\TANU\\Anaconda\\lib\\site-packages\\ipykernel\\kernelbase.py\", line 233, in dispatch_shell\n",
      "    handler(stream, idents, msg)\n",
      "  File \"C:\\Users\\TANU\\Anaconda\\lib\\site-packages\\ipykernel\\kernelbase.py\", line 421, in execute_request\n",
      "    self._abort_queues()\n",
      "  File \"C:\\Users\\TANU\\Anaconda\\lib\\site-packages\\ipykernel\\kernelbase.py\", line 636, in _abort_queues\n",
      "    self._abort_queue(stream)\n",
      "  File \"C:\\Users\\TANU\\Anaconda\\lib\\site-packages\\ipykernel\\kernelbase.py\", line 661, in _abort_queue\n",
      "    poller.poll(50)\n",
      "  File \"C:\\Users\\TANU\\Anaconda\\lib\\site-packages\\zmq\\sugar\\poll.py\", line 99, in poll\n",
      "    return zmq_poll(self.sockets, timeout=timeout)\n",
      "  File \"zmq/backend/cython/_poll.pyx\", line 123, in zmq.backend.cython._poll.zmq_poll\n",
      "  File \"zmq/backend/cython/checkrc.pxd\", line 12, in zmq.backend.cython.checkrc._check_rc\n",
      "KeyboardInterrupt\n"
     ]
    }
   ],
   "source": [
    "clf = cv2.CascadeClassifier(\"C:/Users/TANU/Anaconda/pkgs/libopencv-3.4.1-h875b8b8_3/Library/etc/haarcascades/haarcascade_frontalface_default.xml\")\n",
    "\n",
    "vid = cv2.VideoCapture(\"faces.mp4\")\n",
    "opVid = cv2.VideoWriter(\"facesDetected.mp4\", cv2.VideoWriter_fourcc('M','J','P','G'), 25, (360, 640), True)\n",
    "opFile = open(\"face_loc.txt\", \"w+\")\n",
    "opFile.write(\"Four coordinates of the faces detected\\n\\n\")\n",
    "while(vid.isOpened()):\n",
    "    ret, frame = vid.read()\n",
    "    if ret:\n",
    "        frame_g = cv2.cvtColor(frame, cv2.COLOR_RGB2GRAY)\n",
    "        # Scale factor = 1.1\n",
    "        # Minimum neighbours = 2\n",
    "        faces = clf.detectMultiScale(frame_g, 1.5, 2)\n",
    "        for (a,b,c,d) in faces:\n",
    "            cv2.rectangle(frame, (a,b), (a+c, b+d), (0, 250,0), 2)\n",
    "            opFile.write(\"%d\\t %d\\t %d\\t %d\\n\"%(a, b, (a+c), (b+d)))\n",
    "        opVid.write(frame)\n",
    "opVid.release()\n",
    "vid.release()\n",
    "opFile.close()"
   ]
  },
  {
   "cell_type": "code",
   "execution_count": 112,
   "metadata": {},
   "outputs": [],
   "source": [
    "opFile = open(\"face_loc.txt\", \"w+\")"
   ]
  },
  {
   "cell_type": "code",
   "execution_count": 6,
   "metadata": {},
   "outputs": [
    {
     "name": "stdout",
     "output_type": "stream",
     "text": [
      "faces:  19\n"
     ]
    },
    {
     "data": {
      "text/plain": [
       "True"
      ]
     },
     "execution_count": 6,
     "metadata": {},
     "output_type": "execute_result"
    }
   ],
   "source": [
    "\n",
    "clf = cv2.CascadeClassifier(\"C:/Users/TANU/Anaconda/pkgs/libopencv-3.4.1-h875b8b8_3/Library/etc/haarcascades/haarcascade_frontalface_default.xml\")\n",
    "\n",
    "vid = cv2.VideoCapture(\"faces.mp4\")\n",
    "opVid = cv2.VideoWriter(\"facesDetected.mp4\", cv2.VideoWriter_fourcc('M','J','P','G'), 25, (360, 640), True)\n",
    "opFile = open(\"face_loc.txt\", \"w+\")\n",
    "opFile.write(\"Four coordinates of the faces detected\\n\\n\")\n",
    "while(vid.isOpened()):\n",
    "    ret, frame = vid.read()\n",
    "    if ret:\n",
    "        frame_g = cv2.cvtColor(frame, cv2.COLOR_RGB2GRAY)\n",
    "        # Scale factor = 1.1\n",
    "        # Minimum neighbours = 2\n",
    "        faces = clf.detectMultiScale(frame_g, 1.03, 5)\n",
    "        for (a,b,c,d) in faces:\n",
    "            cv2.rectangle(frame, (a,b), (a+c, b+d), (0, 250,0), 2)\n",
    "            opFile.write(\"%d\\t %d\\t %d\\t %d\\n\"%(a, b, (a+c), (b+d)))\n",
    "        opVid.write(frame)\n",
    "opVid.release()\n",
    "vid.release()\n",
    "opFile.close()\n",
    "\n",
    "\n",
    "I_g = cv2.cvtColor(I, cv2.COLOR_RGB2GRAY)\n",
    "\n",
    "# Scale factor = 1.1\n",
    "# Minimum neighbours = 2\n",
    "faces = clf.detectMultiScale(I_g, 1.03, 5)\n",
    "print('faces: ', len(faces))\n",
    "\n",
    "opFile = open(\"face_loc.txt\", \"w+\")\n",
    "opFile.write(\"Four coordinates of the faces detected\\n\\n\")\n",
    "\n",
    "for (a,b,c,d) in faces:\n",
    "    cv2.rectangle(I, (a,b), (a+c, b+d), (0, 250,0), 2)\n",
    "    opFile.write(\"%d\\t %d\\t %d\\t %d\\n\"%(a, b, (a+c), (b+d)))\n",
    "    \n",
    "opFile.close()\n",
    "cv2.imwrite('facDet.jpg', I)\n"
   ]
  }
 ],
 "metadata": {
  "kernelspec": {
   "display_name": "Python 3",
   "language": "python",
   "name": "python3"
  },
  "language_info": {
   "codemirror_mode": {
    "name": "ipython",
    "version": 3
   },
   "file_extension": ".py",
   "mimetype": "text/x-python",
   "name": "python",
   "nbconvert_exporter": "python",
   "pygments_lexer": "ipython3",
   "version": "3.6.5"
  }
 },
 "nbformat": 4,
 "nbformat_minor": 2
}
