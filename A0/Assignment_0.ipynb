{
 "cells": [
  {
   "cell_type": "code",
   "execution_count": 1,
   "metadata": {},
   "outputs": [
    {
     "name": "stdout",
     "output_type": "stream",
     "text": [
      "Assignment 0\n"
     ]
    }
   ],
   "source": [
    "print('Assignment 0')"
   ]
  },
  {
   "cell_type": "code",
   "execution_count": 1,
   "metadata": {},
   "outputs": [],
   "source": [
    "import cv2\n",
    "import os\n",
    "import shutil\n",
    "import numpy as np"
   ]
  },
  {
   "cell_type": "markdown",
   "metadata": {},
   "source": [
    "# Video -> Frames"
   ]
  },
  {
   "cell_type": "code",
   "execution_count": 2,
   "metadata": {},
   "outputs": [],
   "source": [
    "# Function to create a folder\n",
    "def createFolder(name):\n",
    "    try:\n",
    "        os.mkdir(name)\n",
    "        print('Folder created!')\n",
    "    except:\n",
    "        print('Folder already exists!')\n",
    "\n",
    "# Create opFolder\n",
    "def createOpFolder(vid, opFolder):\n",
    "    # If the video file is not found or some other error occured in opening the file\n",
    "    if not vid.isOpened():\n",
    "        print('Error while opening the file')\n",
    "    # If the file is opened, create an output folder to save frames of the video\n",
    "    else:\n",
    "        # If ouput folder exists, delete its data\n",
    "        if os.path.isdir(opFolder):\n",
    "            try:\n",
    "                # Delete existing output folder and create a new one\n",
    "                shutil.rmtree(opFolder)\n",
    "                print('Old folder deleted')\n",
    "                createFolder(opFolder)\n",
    "            except:\n",
    "                print('Old folder not deleted')\n",
    "        else:\n",
    "            createFolder(opFolder)\n",
    "        \n",
    "def convertVidToIm(filename, opFolder):\n",
    "    vid = cv2.VideoCapture(filename)\n",
    "\n",
    "    createOpFolder(vid, opFolder)\n",
    "\n",
    "    # Frames array\n",
    "    opFrames = []\n",
    "    frameCount = 0\n",
    "    while(vid.isOpened()):\n",
    "        # Return is True if the read() returns a frame\n",
    "        # frame is the frame of the video\n",
    "        ret, frame = vid.read()\n",
    "\n",
    "        # If ret is True, show the frame\n",
    "        if ret:\n",
    "            frameCount = frameCount + 1\n",
    "            opFrames.append(frame)        \n",
    "            cv2.imshow('frame',frame)\n",
    "\n",
    "            # Save frame in output folder\n",
    "            fn = opFolder + '/%d.jpg'%frameCount\n",
    "            cv2.imwrite(fn, frame)\n",
    "\n",
    "            # Press 'q' to quit\n",
    "            if cv2.waitKey(25) & 0xFF == ord('q'):\n",
    "                break\n",
    "        else:\n",
    "            break\n",
    "\n",
    "\n",
    "    opFrames = np.asarray(opFrames)\n",
    "    \n",
    "    vid.release()\n",
    "    cv2.destroyAllWindows()\n",
    "    return opFrames"
   ]
  },
  {
   "cell_type": "code",
   "execution_count": 5,
   "metadata": {},
   "outputs": [
    {
     "name": "stdout",
     "output_type": "stream",
     "text": [
      "Folder created!\n"
     ]
    }
   ],
   "source": [
    "# Constants\n",
    "opFolder = 'output'\n",
    "# videoFile = 'input/V3.mp4'\n",
    "videoFile = 'bgVid.mp4'\n",
    "\n",
    "frames = convertVidToIm(videoFile, opFolder)"
   ]
  },
  {
   "cell_type": "markdown",
   "metadata": {},
   "source": [
    "# Images -> Video"
   ]
  },
  {
   "cell_type": "code",
   "execution_count": 3,
   "metadata": {},
   "outputs": [],
   "source": [
    "# Reads image in sorted order\n",
    "def getImages(inputFolder):\n",
    "    fileType = ''\n",
    "    imFiles = []\n",
    "\n",
    "    for a,b,files in os.walk(inputFolder):\n",
    "        for file in sorted(files):\n",
    "            name = file.split('.')\n",
    "            imFiles.append(name[0])\n",
    "\n",
    "            if not fileType:\n",
    "                fileType = name[1]\n",
    "                frame = cv2.imread(inputFolder+'/'+file)\n",
    "                frameSize = (frame.shape[1],frame.shape[0])\n",
    " \n",
    "    ims = np.asarray(list(cv2.imread(inputFolder + '/%s'%im + '.' + fileType) for im in sorted(imFiles, key=int)))\n",
    "    \n",
    "    return ims, frameSize\n",
    "\n",
    "# Converts a list of images into a single video\n",
    "def convertImToVid(images, fps, frameSize):\n",
    "    name = 'outputVideo.mp4'\n",
    "    opvid = cv2.VideoWriter(name, cv2.VideoWriter_fourcc('M','J','P','G'), fps, frameSize, True)\n",
    "    for im in images:\n",
    "        opvid.write(im)\n",
    "#         cv2.imshow('frame',im)\n",
    "#         if cv2.waitKey(20) & 0xFF == ord('q'):\n",
    "#             break\n",
    "    \n",
    "    opvid.release()\n",
    "    cv2.destroyAllWindows()\n",
    "    \n",
    "    playVideo(name)"
   ]
  },
  {
   "cell_type": "code",
   "execution_count": 16,
   "metadata": {},
   "outputs": [],
   "source": [
    "ipFolder = 'output'\n",
    "opvideoFile = 'outputVideo.avi'\n",
    "\n",
    "# Read images from the directory\n",
    "ims, fs = getImages(ipFolder)\n",
    "convertImToVid(ims, 0.9, fs)"
   ]
  },
  {
   "cell_type": "markdown",
   "metadata": {},
   "source": [
    "# Capture webcam video"
   ]
  },
  {
   "cell_type": "code",
   "execution_count": 25,
   "metadata": {},
   "outputs": [
    {
     "name": "stdout",
     "output_type": "stream",
     "text": [
      "Old folder deleted\n",
      "Folder created!\n"
     ]
    }
   ],
   "source": [
    "# Constants\n",
    "webopFolder = 'weboutput'\n",
    "\n",
    "# Capture and show webcam video and save as images\n",
    "convertVidToIm(0, webopFolder)\n",
    "\n",
    "opvideoFile = 'outputVideo.avi'\n",
    "\n",
    "# Read images from the directory\n",
    "ims, fs = getImages(webopFolder)\n",
    "convertImToVid(ims, 20, fs)"
   ]
  },
  {
   "cell_type": "markdown",
   "metadata": {},
   "source": [
    "# Chroma Keying"
   ]
  },
  {
   "cell_type": "code",
   "execution_count": 4,
   "metadata": {},
   "outputs": [],
   "source": [
    "def playVideo(filename):\n",
    "    vid = cv2.VideoCapture(filename)\n",
    "\n",
    "    while(vid.isOpened()):\n",
    "        # Return is True if the read() returns a frame\n",
    "        # frame is the frame of the video\n",
    "        ret, frame = vid.read()\n",
    "\n",
    "        # If ret is True, add the frame\n",
    "        if ret:\n",
    "            cv2.imshow('frame',frame)\n",
    "\n",
    "            # Press 'q' to quit\n",
    "            if cv2.waitKey(25) & 0xFF == ord('q'):\n",
    "                break\n",
    "        else:\n",
    "            break\n",
    " \n",
    "    vid.release()\n",
    "    cv2.destroyAllWindows()\n",
    "\n",
    "# fgVid = Foreground video\n",
    "# bgVid = Background video\n",
    "def chromaKeying(fgVid, bgVid):\n",
    "    fgFolder = 'fg'\n",
    "    bgFolder = 'bg'\n",
    "    fgFrames = convertVidToIm(fgVid, fgFolder)\n",
    "    bgFrames = convertVidToIm(bgVid, bgFolder)\n",
    "    \n",
    "    if not ((len(fgFrames) == 0) & (len(bgFrames) == 0)):\n",
    "        print(len(fgFrames))\n",
    "        print(len(bgFrames))\n",
    "        \n",
    "        A = 1.0\n",
    "        B = 1.0    \n",
    "        newFgFrames = []\n",
    "\n",
    "        fs = fgFrames[0].shape\n",
    "\n",
    "        for fg, bg in zip(fgFrames, bgFrames):\n",
    "\n",
    "            # For each pixel, check whether fg or bg\n",
    "            for i in range(0, fs[0]):\n",
    "                for j in range(0,fs[1]):\n",
    "                    fgVal = fg[i,j]\n",
    "                    alpha = np.int16(fgVal[0]) + np.int16(fgVal[2]) - np.int16(fgVal[1])\n",
    "                    # Replace with background pixel value if alpha is less than 0\n",
    "                    if alpha <= 0:\n",
    "                        fg[i,j] = bg[i,j]\n",
    "\n",
    "                    # Remove green spill\n",
    "                    fg[i,j] = [fgVal[0], min(fgVal[1], fgVal[2]), fgVal[2]]\n",
    "\n",
    "            newFgFrames.append(fg)\n",
    "\n",
    "        convertImToVid(newFgFrames, 25, (fs[1], fs[0]))\n",
    "    "
   ]
  },
  {
   "cell_type": "code",
   "execution_count": 26,
   "metadata": {
    "scrolled": true
   },
   "outputs": [
    {
     "name": "stdout",
     "output_type": "stream",
     "text": [
      "Old folder deleted\n",
      "Folder created!\n",
      "Old folder deleted\n",
      "Folder created!\n",
      "393\n",
      "99\n"
     ]
    }
   ],
   "source": [
    "# Constants\n",
    "fg = 'fgVid.mp4'\n",
    "bg = 'bgVid.mp4'\n",
    "\n",
    "chromaKeying(fg, bg)"
   ]
  },
  {
   "cell_type": "markdown",
   "metadata": {},
   "source": [
    "# Chroma Keying using HSV model"
   ]
  },
  {
   "cell_type": "code",
   "execution_count": 74,
   "metadata": {},
   "outputs": [
    {
     "name": "stdout",
     "output_type": "stream",
     "text": [
      "Old folder deleted\n",
      "Folder created!\n",
      "Old folder deleted\n",
      "Folder created!\n",
      "398\n",
      "894\n"
     ]
    },
    {
     "ename": "TypeError",
     "evalue": "ufunc 'bitwise_and' not supported for the input types, and the inputs could not be safely coerced to any supported types according to the casting rule ''safe''",
     "output_type": "error",
     "traceback": [
      "\u001b[1;31m---------------------------------------------------------------------------\u001b[0m",
      "\u001b[1;31mTypeError\u001b[0m                                 Traceback (most recent call last)",
      "\u001b[1;32m<ipython-input-74-ef318d81cbb0>\u001b[0m in \u001b[0;36m<module>\u001b[1;34m()\u001b[0m\n\u001b[0;32m     26\u001b[0m             \u001b[0mhsv\u001b[0m \u001b[1;33m=\u001b[0m \u001b[0mcv2\u001b[0m\u001b[1;33m.\u001b[0m\u001b[0mcvtColor\u001b[0m\u001b[1;33m(\u001b[0m\u001b[0mfgF\u001b[0m\u001b[1;33m,\u001b[0m \u001b[0mcv2\u001b[0m\u001b[1;33m.\u001b[0m\u001b[0mCOLOR_BGR2HSV\u001b[0m\u001b[1;33m)\u001b[0m\u001b[1;33m\u001b[0m\u001b[0m\n\u001b[0;32m     27\u001b[0m \u001b[1;33m\u001b[0m\u001b[0m\n\u001b[1;32m---> 28\u001b[1;33m             \u001b[0mhsv\u001b[0m\u001b[1;33m[\u001b[0m\u001b[0mnp\u001b[0m\u001b[1;33m.\u001b[0m\u001b[0mwhere\u001b[0m\u001b[1;33m(\u001b[0m\u001b[1;33m(\u001b[0m\u001b[0mhsv\u001b[0m\u001b[1;33m[\u001b[0m\u001b[1;36m0\u001b[0m\u001b[1;33m]\u001b[0m \u001b[1;33m>=\u001b[0m \u001b[0mlwrB\u001b[0m \u001b[1;33m&\u001b[0m \u001b[0mhsv\u001b[0m\u001b[1;33m[\u001b[0m\u001b[1;36m0\u001b[0m\u001b[1;33m]\u001b[0m \u001b[1;33m<=\u001b[0m \u001b[0muprB\u001b[0m\u001b[1;33m)\u001b[0m\u001b[1;33m)\u001b[0m\u001b[1;33m]\u001b[0m \u001b[1;33m=\u001b[0m \u001b[0mbgF\u001b[0m\u001b[1;33m[\u001b[0m\u001b[0mnp\u001b[0m\u001b[1;33m.\u001b[0m\u001b[0mwhere\u001b[0m\u001b[1;33m(\u001b[0m\u001b[1;33m(\u001b[0m\u001b[0mhsv\u001b[0m\u001b[1;33m[\u001b[0m\u001b[1;36m0\u001b[0m\u001b[1;33m]\u001b[0m \u001b[1;33m>=\u001b[0m \u001b[0mlwrB\u001b[0m \u001b[1;33m&\u001b[0m \u001b[0mhsv\u001b[0m\u001b[1;33m[\u001b[0m\u001b[1;36m0\u001b[0m\u001b[1;33m]\u001b[0m \u001b[1;33m<=\u001b[0m \u001b[0muprB\u001b[0m\u001b[1;33m)\u001b[0m\u001b[1;33m)\u001b[0m\u001b[1;33m]\u001b[0m\u001b[1;33m\u001b[0m\u001b[0m\n\u001b[0m",
      "\u001b[1;31mTypeError\u001b[0m: ufunc 'bitwise_and' not supported for the input types, and the inputs could not be safely coerced to any supported types according to the casting rule ''safe''"
     ]
    }
   ],
   "source": [
    "import cv2\n",
    "import numpy as np\n",
    "\n",
    "fgFile = 'fgVid.mp4'\n",
    "bgFile = 'bgVid.mp4'\n",
    "fgOp = 'fg'\n",
    "bgOp = 'bg'\n",
    "keyMickey = 0.3491\n",
    "lwrB = 0.340\n",
    "uprB = 0.355\n",
    "\n",
    "fgFrames = convertVidToIm(fgFile, fgOp)\n",
    "bgFrames = convertVidToIm(bgFile, bgOp)\n",
    "\n",
    "if not ((len(fgFrames) == 0) & (len(bgFrames) == 0)):\n",
    "        print(len(fgFrames))\n",
    "        print(len(bgFrames))\n",
    "        \n",
    "        A = 1.0\n",
    "        B = 1.0    \n",
    "        newFgFrames = []\n",
    "\n",
    "        fs = fgFrames[0].shape\n",
    "\n",
    "        for fgF, bgF in zip(fgFrames, bgFrames):\n",
    "            hsv = cv2.cvtColor(fgF, cv2.COLOR_BGR2HSV)\n",
    "            \n",
    "            hsv[np.where((hsv[0] >= lwrB & hsv[0] <= uprB))] = bgF[np.where((hsv[0] >= lwrB & hsv[0] <= uprB))]"
   ]
  },
  {
   "cell_type": "code",
   "execution_count": 35,
   "metadata": {
    "scrolled": true
   },
   "outputs": [
    {
     "name": "stdout",
     "output_type": "stream",
     "text": [
      "Old folder deleted\n",
      "Folder created!\n",
      "Old folder deleted\n",
      "Folder created!\n"
     ]
    }
   ],
   "source": [
    "# fg = cv2.imread('44.jpg')\n",
    "# bg = cv2.imread('12.jpg')\n",
    "lhb = 45\n",
    "uhb = 65\n",
    "lsb = 150\n",
    "usb = 255\n",
    "\n",
    "# fgVid = Foreground video\n",
    "# bgVid = Background video\n",
    "def chromaKeyinghsv(fgVid, bgVid):\n",
    "    fgFolder = 'fg'\n",
    "    bgFolder = 'bg'\n",
    "    fgFrames = convertVidToIm(fgVid, fgFolder)\n",
    "    bgFrames = convertVidToIm(bgVid, bgFolder)\n",
    "    \n",
    "    if not ((len(fgFrames) == 0) & (len(bgFrames) == 0)):  \n",
    "        newFgFrames = []\n",
    "        fs = fgFrames[0].shape\n",
    "\n",
    "        for fg, bg in zip(fgFrames, bgFrames):\n",
    "            hsv = cv2.cvtColor(fg, cv2.COLOR_BGR2HSV)\n",
    "            hc = np.logical_and(hsv[:,:,0] >= lhb, hsv[:,:,0] <= uhb)\n",
    "            sc = np.logical_and(hsv[:,:,1] >= lsb, hsv[:,:,1] <= usb)\n",
    "            fg[np.where(np.logical_and(hc,sc))]= bg[np.where(np.logical_and(hc, sc))]\n",
    "            fg[:,:,1] = np.min([fg[:,:,1],fg[:,:,2]], axis = 0)\n",
    "\n",
    "            newFgFrames.append(fg)\n",
    "\n",
    "        convertImToVid(newFgFrames, 25, (fs[1], fs[0]))\n",
    "\n",
    "# Constants\n",
    "fg = 'fgVid.mp4'\n",
    "bg = 'bgVid.mp4'\n",
    "\n",
    "chromaKeyinghsv(fg, bg)\n",
    "        \n",
    "# hsv = cv2.cvtColor(fg, cv2.COLOR_BGR2HSV)\n",
    "# fg[np.where(np.logical_and(hsv[:,:,0] >= lwrB, hsv[:,:,0] <= uprB))] = bg[np.where(np.logical_and(hsv[:,:,0] >= lwrB, hsv[:,:,0] <= uprB))]\n",
    "\n",
    "# fg[:,:,1] = np.min([fg[:,:,1],fg[:,:,2]], axis = 0)\n",
    "\n",
    "# cv2.imwrite('finalImage.jpg', fg)\n",
    "# cv2.imwrite('finalImagehsv.jpg', hsv)"
   ]
  },
  {
   "cell_type": "code",
   "execution_count": 9,
   "metadata": {},
   "outputs": [
    {
     "name": "stdout",
     "output_type": "stream",
     "text": [
      "[  9 180  48]\n",
      "[ 11 190  57]\n",
      "[ 53 242 180]\n"
     ]
    }
   ],
   "source": [
    "fg = cv2.imread('1.jpg')\n",
    "print(fg[0,0,:])\n",
    "print(fg[30,30,:])\n",
    "fhsv = cv2.cvtColor(fg, cv2.COLOR_BGR2HSV)\n",
    "print(fhsv[0,0,:])"
   ]
  },
  {
   "cell_type": "code",
   "execution_count": 51,
   "metadata": {},
   "outputs": [
    {
     "data": {
      "text/plain": [
       "array([[199, 199, 199, ..., 196, 197, 198],\n",
       "       [199, 199, 199, ..., 198, 199, 200],\n",
       "       [199, 199, 199, ..., 200, 202, 203],\n",
       "       ...,\n",
       "       [199, 199, 199, ..., 198, 198, 198],\n",
       "       [199, 199, 199, ..., 198, 198, 198],\n",
       "       [199, 199, 199, ..., 198, 198, 198]], dtype=uint8)"
      ]
     },
     "execution_count": 51,
     "metadata": {},
     "output_type": "execute_result"
    }
   ],
   "source": [
    "            hsv = cv2.cvtColor(fg, cv2.COLOR_BGR2HSV)\n",
    "\n",
    "            hc = np.logical_and(hsv[:,:,0] >= lhb, hsv[:,:,0] <= uhb)\n",
    "            sc = np.logical_and(hsv[:,:,1] >= lsb, hsv[:,:,1] <= usb)\n",
    "            fg[np.where(np.logical_and(hc,sc))]= bg[np.where(np.logical_and(hc, sc))]\n",
    "            fg[:,:,1] = np.min([fg[:,:,1],fg[:,:,2]], axis = 0)\n"
   ]
  }
 ],
 "metadata": {
  "kernelspec": {
   "display_name": "Python 3",
   "language": "python",
   "name": "python3"
  },
  "language_info": {
   "codemirror_mode": {
    "name": "ipython",
    "version": 3
   },
   "file_extension": ".py",
   "mimetype": "text/x-python",
   "name": "python",
   "nbconvert_exporter": "python",
   "pygments_lexer": "ipython3",
   "version": "3.6.5"
  }
 },
 "nbformat": 4,
 "nbformat_minor": 2
}
